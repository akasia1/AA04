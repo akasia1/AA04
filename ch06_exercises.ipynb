{
  "nbformat": 4,
  "nbformat_minor": 0,
  "metadata": {
    "colab": {
      "name": "ch06_exercises.ipynb",
      "provenance": [],
      "collapsed_sections": [],
      "toc_visible": true,
      "include_colab_link": true
    },
    "kernelspec": {
      "name": "python3",
      "display_name": "Python 3"
    }
  },
  "cells": [
    {
      "cell_type": "markdown",
      "metadata": {
        "id": "view-in-github",
        "colab_type": "text"
      },
      "source": [
        "<a href=\"https://colab.research.google.com/github/akasia1/AA04/blob/master/ch06_exercises.ipynb\" target=\"_parent\"><img src=\"https://colab.research.google.com/assets/colab-badge.svg\" alt=\"Open In Colab\"/></a>"
      ]
    },
    {
      "cell_type": "markdown",
      "metadata": {
        "id": "UhMenc5sjvUW",
        "colab_type": "text"
      },
      "source": [
        "**06-1 내가 프로그램을 만들 수 있을까?**"
      ]
    },
    {
      "cell_type": "code",
      "metadata": {
        "id": "e2Rs4vtYjs4a",
        "colab_type": "code",
        "outputId": "d9d3ecec-4844-4672-b240-155b219450b1",
        "colab": {
          "base_uri": "https://localhost:8080/",
          "height": 35
        }
      },
      "source": [
        "def GuGu(n):\n",
        "    result = []\n",
        "    i = 1\n",
        "    while i < 10:\n",
        "        result.append(n * i)\n",
        "        i = i + 1\n",
        "    return result\n",
        "\n",
        "print(GuGu(2))"
      ],
      "execution_count": 0,
      "outputs": [
        {
          "output_type": "stream",
          "text": [
            "[2, 4, 6, 8, 10, 12, 14, 16, 18]\n"
          ],
          "name": "stdout"
        }
      ]
    },
    {
      "cell_type": "code",
      "metadata": {
        "id": "3AMTSzsMkDPU",
        "colab_type": "code",
        "outputId": "71a50ea5-293b-4e86-9dd5-cf41e4a7c9bc",
        "colab": {
          "base_uri": "https://localhost:8080/",
          "height": 35
        }
      },
      "source": [
        "def GuGu(n):\n",
        "  result =[]\n",
        "  i= 1\n",
        "  for i in range(1,10):\n",
        "    result.append(n*i)\n",
        "  return result\n",
        "\n",
        "print(GuGu(2))"
      ],
      "execution_count": 0,
      "outputs": [
        {
          "output_type": "stream",
          "text": [
            "[2, 4, 6, 8, 10, 12, 14, 16, 18]\n"
          ],
          "name": "stdout"
        }
      ]
    },
    {
      "cell_type": "code",
      "metadata": {
        "id": "EiXUZpRQkZiT",
        "colab_type": "code",
        "outputId": "eb3f8e24-34f5-4e1d-b311-f80113516823",
        "colab": {
          "base_uri": "https://localhost:8080/",
          "height": 35
        }
      },
      "source": [
        "  def GuGu(n):\n",
        "    return [i*n for i in range(1,10)]\n",
        "  \n",
        "print(GuGu(2))"
      ],
      "execution_count": 0,
      "outputs": [
        {
          "output_type": "stream",
          "text": [
            "[2, 4, 6, 8, 10, 12, 14, 16, 18]\n"
          ],
          "name": "stdout"
        }
      ]
    },
    {
      "cell_type": "code",
      "metadata": {
        "id": "iTp4qXrwlFWb",
        "colab_type": "code",
        "outputId": "76e59968-24a8-4c46-e476-1856747674d5",
        "colab": {
          "base_uri": "https://localhost:8080/",
          "height": 35
        }
      },
      "source": [
        "def GuGu(n):\n",
        "  return list(map(lambda a:a*n,range(1,10)))\n",
        "\n",
        "print(GuGu(2))"
      ],
      "execution_count": 0,
      "outputs": [
        {
          "output_type": "stream",
          "text": [
            "[2, 4, 6, 8, 10, 12, 14, 16, 18]\n"
          ],
          "name": "stdout"
        }
      ]
    },
    {
      "cell_type": "markdown",
      "metadata": {
        "id": "sdpmKwhmof1P",
        "colab_type": "text"
      },
      "source": [
        "**06-2 3과 5의 배수 합하기**"
      ]
    },
    {
      "cell_type": "code",
      "metadata": {
        "id": "iSVPI9nwnsDk",
        "colab_type": "code",
        "outputId": "62ef403a-74e0-4567-f7ce-cc9e199c27f1",
        "colab": {
          "base_uri": "https://localhost:8080/",
          "height": 35
        }
      },
      "source": [
        "result = 0\n",
        "for n in range(1, 1000):\n",
        "    if n % 3 == 0 or n % 5 == 0: \n",
        "        result += n\n",
        "print(result)"
      ],
      "execution_count": 0,
      "outputs": [
        {
          "output_type": "stream",
          "text": [
            "233168\n"
          ],
          "name": "stdout"
        }
      ]
    },
    {
      "cell_type": "code",
      "metadata": {
        "id": "btOxHmtIpXC-",
        "colab_type": "code",
        "outputId": "799d49b7-0daa-43c1-d8f4-0ad991b41401",
        "colab": {
          "base_uri": "https://localhost:8080/",
          "height": 35
        }
      },
      "source": [
        "i=1\n",
        "result=0\n",
        "while i < 1000:\n",
        "  if i%3==0 or i %5 ==0:\n",
        "    result += i\n",
        "  i=i+1\n",
        "\n",
        "print(result)"
      ],
      "execution_count": 0,
      "outputs": [
        {
          "output_type": "stream",
          "text": [
            "233168\n"
          ],
          "name": "stdout"
        }
      ]
    },
    {
      "cell_type": "code",
      "metadata": {
        "id": "Fn7WE3_Zp41l",
        "colab_type": "code",
        "outputId": "ff2cd900-d763-4283-d76c-c5b81d8b73c6",
        "colab": {
          "base_uri": "https://localhost:8080/",
          "height": 35
        }
      },
      "source": [
        "sum([num for num in range(1,1000) if num % 3== 0 or num % 5 ==0])"
      ],
      "execution_count": 0,
      "outputs": [
        {
          "output_type": "execute_result",
          "data": {
            "text/plain": [
              "233168"
            ]
          },
          "metadata": {
            "tags": []
          },
          "execution_count": 45
        }
      ]
    },
    {
      "cell_type": "code",
      "metadata": {
        "id": "OqOBVFG0rDvn",
        "colab_type": "code",
        "outputId": "4d089692-3ab5-4843-c7f2-b260c46c542a",
        "colab": {
          "base_uri": "https://localhost:8080/",
          "height": 35
        }
      },
      "source": [
        "sum(list(filter(lambda num: num % 3 ==0 or num % 5==0 ,range(1,1000))))"
      ],
      "execution_count": 0,
      "outputs": [
        {
          "output_type": "execute_result",
          "data": {
            "text/plain": [
              "233168"
            ]
          },
          "metadata": {
            "tags": []
          },
          "execution_count": 50
        }
      ]
    },
    {
      "cell_type": "markdown",
      "metadata": {
        "id": "N2G8oDBRsroj",
        "colab_type": "text"
      },
      "source": [
        "**06-3 게시판 페이징하기**"
      ]
    },
    {
      "cell_type": "code",
      "metadata": {
        "id": "dKsUoJuMrqxM",
        "colab_type": "code",
        "outputId": "ad0e6a98-429a-4a68-b247-afa60212c330",
        "colab": {
          "base_uri": "https://localhost:8080/",
          "height": 90
        }
      },
      "source": [
        "def getTotalPage(m, n):\n",
        "    if m % n == 0:\n",
        "        return m // n\n",
        "    else:\n",
        "        return m // n + 1\n",
        "\n",
        "print(getTotalPage(5, 10))\n",
        "print(getTotalPage(15, 10))\n",
        "print(getTotalPage(25, 10))\n",
        "print(getTotalPage(30, 10))"
      ],
      "execution_count": 0,
      "outputs": [
        {
          "output_type": "stream",
          "text": [
            "1\n",
            "2\n",
            "3\n",
            "3\n"
          ],
          "name": "stdout"
        }
      ]
    },
    {
      "cell_type": "code",
      "metadata": {
        "id": "C-ojpw6RsxZD",
        "colab_type": "code",
        "outputId": "7960b74c-40ce-4e8e-cf13-541e28a7bad4",
        "colab": {
          "base_uri": "https://localhost:8080/",
          "height": 90
        }
      },
      "source": [
        "def getTotalPage1(m,n):\n",
        "  if m<= n:return 1\n",
        "  elif m%n==0 :return m//n\n",
        "  else:  return m//n + 1\n",
        "\n",
        "print(getTotalPage1(5,10))\n",
        "print(getTotalPage1(15,10))\n",
        "print(getTotalPage1(25,10))\n",
        "print(getTotalPage1(30,10))"
      ],
      "execution_count": 0,
      "outputs": [
        {
          "output_type": "stream",
          "text": [
            "1\n",
            "2\n",
            "3\n",
            "3\n"
          ],
          "name": "stdout"
        }
      ]
    },
    {
      "cell_type": "code",
      "metadata": {
        "id": "4Jh2FZOCt-nP",
        "colab_type": "code",
        "outputId": "e4114631-5393-49a7-c52e-167cd87c2d41",
        "colab": {
          "base_uri": "https://localhost:8080/",
          "height": 90
        }
      },
      "source": [
        "def getTotalPage2(m,n):\n",
        "  if m%n >0 and m%n < n: return m//n+1\n",
        "  else: return m//n\n",
        "\n",
        "print(getTotalPage2(5,10))\n",
        "print(getTotalPage2(15,10))\n",
        "print(getTotalPage2(25,10))\n",
        "print(getTotalPage2(30,10))"
      ],
      "execution_count": 0,
      "outputs": [
        {
          "output_type": "stream",
          "text": [
            "1\n",
            "2\n",
            "3\n",
            "3\n"
          ],
          "name": "stdout"
        }
      ]
    },
    {
      "cell_type": "markdown",
      "metadata": {
        "id": "14p4pk5Jydt3",
        "colab_type": "text"
      },
      "source": [
        "**06-4 간단한 메모장 만들기**"
      ]
    },
    {
      "cell_type": "code",
      "metadata": {
        "id": "26JZPQbNyQCa",
        "colab_type": "code",
        "colab": {}
      },
      "source": [
        "#memo.py\n",
        "import sys\n",
        "\n",
        "option = sys.argv[1]\n",
        "\n",
        "if option == '-a':\n",
        "    memo = sys.argv[2]\n",
        "    f = open('memo.txt', 'a')\n",
        "    f.write(memo)\n",
        "    f.write('\\n')\n",
        "    f.close()\n",
        "elif option == '-v':\n",
        "    f = open('memo.txt')\n",
        "    memo = f.read()\n",
        "    f.close()\n",
        "    print(memo)"
      ],
      "execution_count": 0,
      "outputs": []
    },
    {
      "cell_type": "code",
      "metadata": {
        "id": "8yX8HBNMzsOR",
        "colab_type": "code",
        "colab": {}
      },
      "source": [
        "run memo.py -a \"Life is too short\""
      ],
      "execution_count": 0,
      "outputs": []
    },
    {
      "cell_type": "code",
      "metadata": {
        "id": "shXyCgYHzzzQ",
        "colab_type": "code",
        "colab": {}
      },
      "source": [
        "run memo.py -a \"You need python\""
      ],
      "execution_count": 0,
      "outputs": []
    },
    {
      "cell_type": "code",
      "metadata": {
        "id": "VNnBDbj5z22I",
        "colab_type": "code",
        "outputId": "bd5ff59b-d6a1-442b-cca3-54bc3c6250d6",
        "colab": {
          "base_uri": "https://localhost:8080/",
          "height": 89
        }
      },
      "source": [
        "run memo.py -v "
      ],
      "execution_count": 5,
      "outputs": [
        {
          "output_type": "stream",
          "text": [
            "Life is too short\n",
            "Life is too short\n",
            "You need python\n",
            "\n"
          ],
          "name": "stdout"
        }
      ]
    },
    {
      "cell_type": "code",
      "metadata": {
        "id": "FqZsPhdM2rxK",
        "colab_type": "code",
        "colab": {}
      },
      "source": [
        "#memo1.py\n",
        "import sys\n",
        "\n",
        "option=input(\" a or v: \")\n",
        "if option == 'a':\n",
        "    memo = sys.argv[1]\n",
        "    f = open('memo1.txt', 'a')\n",
        "    f.write(memo)\n",
        "    f.write('\\n')\n",
        "    f.close()\n",
        "elif option == 'v':\n",
        "    f = open('memo1.txt')\n",
        "    memo = f.read()\n",
        "    f.close()\n",
        "    print(memo)"
      ],
      "execution_count": 0,
      "outputs": []
    },
    {
      "cell_type": "code",
      "metadata": {
        "id": "rl98eLiQz4QI",
        "colab_type": "code",
        "outputId": "ec5c9f2b-baa6-4932-b2a5-3677ec5c3ffa",
        "colab": {
          "base_uri": "https://localhost:8080/",
          "height": 35
        }
      },
      "source": [
        "run memo1.py \"Life is too short\""
      ],
      "execution_count": 0,
      "outputs": [
        {
          "output_type": "stream",
          "text": [
            " a or v: a\n"
          ],
          "name": "stdout"
        }
      ]
    },
    {
      "cell_type": "code",
      "metadata": {
        "id": "KBCLPGZY0qo_",
        "colab_type": "code",
        "outputId": "35a6ae69-ad34-457f-ed2d-4ad4940b7afa",
        "colab": {
          "base_uri": "https://localhost:8080/",
          "height": 35
        }
      },
      "source": [
        "run memo1.py \"You need python\""
      ],
      "execution_count": 0,
      "outputs": [
        {
          "output_type": "stream",
          "text": [
            " a or v: a\n"
          ],
          "name": "stdout"
        }
      ]
    },
    {
      "cell_type": "code",
      "metadata": {
        "id": "2xtfEkVl0wup",
        "colab_type": "code",
        "outputId": "a6361613-ab9b-40c2-b7d9-7979e8e28bc0",
        "colab": {
          "base_uri": "https://localhost:8080/",
          "height": 90
        }
      },
      "source": [
        "run memo1.py "
      ],
      "execution_count": 0,
      "outputs": [
        {
          "output_type": "stream",
          "text": [
            " a or v: v\n",
            "Life is too short\n",
            "You need python\n",
            "\n"
          ],
          "name": "stdout"
        }
      ]
    },
    {
      "cell_type": "markdown",
      "metadata": {
        "id": "rjy3GM0U2yY0",
        "colab_type": "text"
      },
      "source": [
        "**06-5 탭을 4개의 공백으로 바꾸기**"
      ]
    },
    {
      "cell_type": "code",
      "metadata": {
        "id": "hnizxA1q0zsx",
        "colab_type": "code",
        "colab": {}
      },
      "source": [
        "# c:/doit/tabto4.py\n",
        "import sys\n",
        "\n",
        "src = sys.argv[1]\n",
        "dst = sys.argv[2]\n",
        "\n",
        "f = open(src)\n",
        "tab_content = f.read()\n",
        "f.close()\n",
        "\n",
        "space_content = tab_content.replace(\"/t\", \" \"*4) #\\t 가 안되서 /t로 돌림\n",
        "\n",
        "f = open(dst, 'w')\n",
        "f.write(space_content)\n",
        "f.close()"
      ],
      "execution_count": 0,
      "outputs": []
    },
    {
      "cell_type": "code",
      "metadata": {
        "id": "ThHFv2HB3csQ",
        "colab_type": "code",
        "colab": {}
      },
      "source": [
        "run tabto4.py a.txt b.txt"
      ],
      "execution_count": 0,
      "outputs": []
    },
    {
      "cell_type": "code",
      "metadata": {
        "id": "wYMULSXJ9OLL",
        "colab_type": "code",
        "outputId": "279a3d7a-978b-47e8-d750-1d4964809858",
        "colab": {
          "base_uri": "https://localhost:8080/",
          "height": 53
        }
      },
      "source": [
        "f= open(\"a.txt\",\"r\")\n",
        "print(f.read())\n",
        "f.close()"
      ],
      "execution_count": 7,
      "outputs": [
        {
          "output_type": "stream",
          "text": [
            "Life/tis/ttoo/tshort\n",
            "You/tneed/tpython\n"
          ],
          "name": "stdout"
        }
      ]
    },
    {
      "cell_type": "code",
      "metadata": {
        "id": "FXkhCSrA3heT",
        "colab_type": "code",
        "outputId": "3674d892-cf56-4c22-b8e2-414eb3ace144",
        "colab": {
          "base_uri": "https://localhost:8080/",
          "height": 35
        }
      },
      "source": [
        "f= open(\"b.txt\",\"r\")\n",
        "print(f.read())\n",
        "f.close()"
      ],
      "execution_count": 8,
      "outputs": [
        {
          "output_type": "stream",
          "text": [
            "\n"
          ],
          "name": "stdout"
        }
      ]
    },
    {
      "cell_type": "markdown",
      "metadata": {
        "id": "G1deu6-xXK2j",
        "colab_type": "text"
      },
      "source": [
        "#**06-6 하위 디렉터리 검색하기**"
      ]
    },
    {
      "cell_type": "code",
      "metadata": {
        "id": "PQYnNaQv9cNf",
        "colab_type": "code",
        "outputId": "039f0292-28c8-4299-8a86-2802ad701256",
        "colab": {
          "base_uri": "https://localhost:8080/",
          "height": 72
        }
      },
      "source": [
        "import os\n",
        "\n",
        "def search(dirname):\n",
        "    try:\n",
        "        filenames = os.listdir(dirname)\n",
        "        for filename in filenames:\n",
        "            full_filename = os.path.join(dirname, filename)\n",
        "            if os.path.isdir(full_filename):\n",
        "                search(full_filename)\n",
        "            else:\n",
        "                ext = os.path.splitext(full_filename)[-1]\n",
        "                if ext == '.py': \n",
        "                    print(full_filename)\n",
        "    except PermissionError:\n",
        "        pass\n",
        "\n",
        "search(\"/content\")"
      ],
      "execution_count": 0,
      "outputs": [
        {
          "output_type": "stream",
          "text": [
            "/content/tabto4.py\n",
            "/content/memo1.py\n",
            "/content/memo.py\n"
          ],
          "name": "stdout"
        }
      ]
    },
    {
      "cell_type": "code",
      "metadata": {
        "id": "M8jRixDw5NqM",
        "colab_type": "code",
        "outputId": "ea9c6182-3043-4a1d-cd62-12597df51ba2",
        "colab": {
          "base_uri": "https://localhost:8080/",
          "height": 72
        }
      },
      "source": [
        "import os\n",
        "\n",
        "for (path, dir, files) in os.walk(\"/content\"):\n",
        "    for filename in files:\n",
        "        ext = os.path.splitext(filename)[-1]\n",
        "        if ext == '.py':\n",
        "            print(\"%s/%s\" % (path, filename))"
      ],
      "execution_count": 0,
      "outputs": [
        {
          "output_type": "stream",
          "text": [
            "/content/tabto4.py\n",
            "/content/memo1.py\n",
            "/content/memo.py\n"
          ],
          "name": "stdout"
        }
      ]
    }
  ]
}