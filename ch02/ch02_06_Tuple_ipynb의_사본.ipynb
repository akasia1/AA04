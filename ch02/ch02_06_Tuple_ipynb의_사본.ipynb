{
  "nbformat": 4,
  "nbformat_minor": 0,
  "metadata": {
    "colab": {
      "name": "ch02_06_Tuple.ipynb의 사본",
      "provenance": [],
      "collapsed_sections": [],
      "include_colab_link": true
    },
    "kernelspec": {
      "name": "python3",
      "display_name": "Python 3"
    }
  },
  "cells": [
    {
      "cell_type": "markdown",
      "metadata": {
        "id": "view-in-github",
        "colab_type": "text"
      },
      "source": [
        "<a href=\"https://colab.research.google.com/github/akasia1/AA04/blob/master/ch02/ch02_06_Tuple_ipynb%EC%9D%98_%EC%82%AC%EB%B3%B8.ipynb\" target=\"_parent\"><img src=\"https://colab.research.google.com/assets/colab-badge.svg\" alt=\"Open In Colab\"/></a>"
      ]
    },
    {
      "cell_type": "markdown",
      "metadata": {
        "id": "ocIbsql9VC3_",
        "colab_type": "text"
      },
      "source": [
        "#튜플(Tuple)"
      ]
    },
    {
      "cell_type": "markdown",
      "metadata": {
        "id": "kARbAeNyVVe2",
        "colab_type": "text"
      },
      "source": [
        "리스트는 [ ]으로 둘러싸지만 튜플은 ( )으로 둘러싼다.\n",
        "리스트는 그 값의 생성, 삭제, 수정이 가능하지만 튜플은 그 값을 바꿀 수 없다.\n"
      ]
    },
    {
      "cell_type": "code",
      "metadata": {
        "id": "zvSSFdcLVCHz",
        "colab_type": "code",
        "outputId": "594dadb8-da1f-4862-c003-446a4b89e972",
        "colab": {
          "base_uri": "https://localhost:8080/",
          "height": 35
        }
      },
      "source": [
        "even = (2, 4, 6, 8)\n",
        "even"
      ],
      "execution_count": 0,
      "outputs": [
        {
          "output_type": "execute_result",
          "data": {
            "text/plain": [
              "(2, 4, 6, 8)"
            ]
          },
          "metadata": {
            "tags": []
          },
          "execution_count": 2
        }
      ]
    },
    {
      "cell_type": "code",
      "metadata": {
        "id": "LM7pvsgQVSFE",
        "colab_type": "code",
        "colab": {}
      },
      "source": [
        "t1 = ()  # 튜플 초기화"
      ],
      "execution_count": 0,
      "outputs": []
    },
    {
      "cell_type": "code",
      "metadata": {
        "id": "tNnKdtPMVffW",
        "colab_type": "code",
        "outputId": "cfea9ca3-0bab-452c-ef1b-be35118ac6e9",
        "colab": {
          "base_uri": "https://localhost:8080/",
          "height": 35
        }
      },
      "source": [
        "type(t1)\n"
      ],
      "execution_count": 0,
      "outputs": [
        {
          "output_type": "execute_result",
          "data": {
            "text/plain": [
              "tuple"
            ]
          },
          "metadata": {
            "tags": []
          },
          "execution_count": 4
        }
      ]
    },
    {
      "cell_type": "code",
      "metadata": {
        "id": "n4CFZaBgVizF",
        "colab_type": "code",
        "outputId": "3a9dcc00-2b92-4c8f-bf6a-7d6336acda75",
        "colab": {
          "base_uri": "https://localhost:8080/",
          "height": 35
        }
      },
      "source": [
        "t2 = (1,)\n",
        "t2"
      ],
      "execution_count": 0,
      "outputs": [
        {
          "output_type": "execute_result",
          "data": {
            "text/plain": [
              "(1,)"
            ]
          },
          "metadata": {
            "tags": []
          },
          "execution_count": 6
        }
      ]
    },
    {
      "cell_type": "code",
      "metadata": {
        "id": "6idgbOe2VnBs",
        "colab_type": "code",
        "outputId": "71b0b44c-8fc8-47d7-95c6-7685d2f4d7ba",
        "colab": {
          "base_uri": "https://localhost:8080/",
          "height": 35
        }
      },
      "source": [
        "t3 = (1, 2, 3)\n",
        "t3"
      ],
      "execution_count": 0,
      "outputs": [
        {
          "output_type": "execute_result",
          "data": {
            "text/plain": [
              "(1, 2, 3)"
            ]
          },
          "metadata": {
            "tags": []
          },
          "execution_count": 8
        }
      ]
    },
    {
      "cell_type": "code",
      "metadata": {
        "id": "weyolIpRVt5_",
        "colab_type": "code",
        "outputId": "7fea046a-4e63-43be-b7b8-10ac388a24ce",
        "colab": {
          "base_uri": "https://localhost:8080/",
          "height": 35
        }
      },
      "source": [
        "t4=1,2,3\n",
        "t4"
      ],
      "execution_count": 0,
      "outputs": [
        {
          "output_type": "execute_result",
          "data": {
            "text/plain": [
              "(1, 2, 3)"
            ]
          },
          "metadata": {
            "tags": []
          },
          "execution_count": 9
        }
      ]
    },
    {
      "cell_type": "code",
      "metadata": {
        "id": "j8Mq12NUVyFd",
        "colab_type": "code",
        "outputId": "39a711bc-5449-4e91-d382-38d2ef0301f9",
        "colab": {
          "base_uri": "https://localhost:8080/",
          "height": 35
        }
      },
      "source": [
        "t5 = (\"a\", \"b\", (\"ab\", \"cd\"))\n",
        "#다차원 튜플\n",
        "t5"
      ],
      "execution_count": 0,
      "outputs": [
        {
          "output_type": "execute_result",
          "data": {
            "text/plain": [
              "('a', 'b', ('ab', 'cd'))"
            ]
          },
          "metadata": {
            "tags": []
          },
          "execution_count": 10
        }
      ]
    },
    {
      "cell_type": "markdown",
      "metadata": {
        "id": "lLoMP8EIV9nm",
        "colab_type": "text"
      },
      "source": [
        "t2 = (1,)처럼 단지 1개의 요소만을 가질 때는 요소 뒤에\n",
        "콤마(,)를 반드시 붙여야 한다는 것과\n",
        "t4 = 1, 2, 3처럼 괄호( )를 생략해도 무방하다."
      ]
    },
    {
      "cell_type": "markdown",
      "metadata": {
        "id": "5ffG64cyWKpt",
        "colab_type": "text"
      },
      "source": [
        "1. 튜플 요솟값을 삭제하려 할 때"
      ]
    },
    {
      "cell_type": "code",
      "metadata": {
        "id": "i1yAe6mKV5UX",
        "colab_type": "code",
        "outputId": "455ec8ec-9369-42d4-c52b-f7dfb27cdbdc",
        "colab": {
          "base_uri": "https://localhost:8080/",
          "height": 35
        }
      },
      "source": [
        "t1 = (1, 2, \"a\", \"b\")\n",
        "t1"
      ],
      "execution_count": 0,
      "outputs": [
        {
          "output_type": "execute_result",
          "data": {
            "text/plain": [
              "(1, 2, 'a', 'b')"
            ]
          },
          "metadata": {
            "tags": []
          },
          "execution_count": 12
        }
      ]
    },
    {
      "cell_type": "code",
      "metadata": {
        "id": "WBaNGVJqWLk-",
        "colab_type": "code",
        "outputId": "9c2120d6-6e91-4d38-8024-b6ff2d125810",
        "colab": {
          "base_uri": "https://localhost:8080/",
          "height": 172
        }
      },
      "source": [
        "del t1[0]  # Error"
      ],
      "execution_count": 0,
      "outputs": [
        {
          "output_type": "error",
          "ename": "TypeError",
          "evalue": "ignored",
          "traceback": [
            "\u001b[0;31m---------------------------------------------------------------------------\u001b[0m",
            "\u001b[0;31mTypeError\u001b[0m                                 Traceback (most recent call last)",
            "\u001b[0;32m<ipython-input-13-e40c4d7d207d>\u001b[0m in \u001b[0;36m<module>\u001b[0;34m()\u001b[0m\n\u001b[0;32m----> 1\u001b[0;31m \u001b[0;32mdel\u001b[0m \u001b[0mt1\u001b[0m\u001b[0;34m[\u001b[0m\u001b[0;36m0\u001b[0m\u001b[0;34m]\u001b[0m  \u001b[0;31m# Error\u001b[0m\u001b[0;34m\u001b[0m\u001b[0;34m\u001b[0m\u001b[0m\n\u001b[0m",
            "\u001b[0;31mTypeError\u001b[0m: 'tuple' object doesn't support item deletion"
          ]
        }
      ]
    },
    {
      "cell_type": "code",
      "metadata": {
        "id": "15Nvms15WSbk",
        "colab_type": "code",
        "outputId": "00d2e206-4414-4aa5-c513-ab739c32f704",
        "colab": {
          "base_uri": "https://localhost:8080/",
          "height": 172
        }
      },
      "source": [
        "t1[0] = \"c\"  # TypeError"
      ],
      "execution_count": 0,
      "outputs": [
        {
          "output_type": "error",
          "ename": "TypeError",
          "evalue": "ignored",
          "traceback": [
            "\u001b[0;31m---------------------------------------------------------------------------\u001b[0m",
            "\u001b[0;31mTypeError\u001b[0m                                 Traceback (most recent call last)",
            "\u001b[0;32m<ipython-input-14-0bbd751d0308>\u001b[0m in \u001b[0;36m<module>\u001b[0;34m()\u001b[0m\n\u001b[0;32m----> 1\u001b[0;31m \u001b[0mt1\u001b[0m\u001b[0;34m[\u001b[0m\u001b[0;36m0\u001b[0m\u001b[0;34m]\u001b[0m \u001b[0;34m=\u001b[0m \u001b[0;34m\"c\"\u001b[0m  \u001b[0;31m# TypeError\u001b[0m\u001b[0;34m\u001b[0m\u001b[0;34m\u001b[0m\u001b[0m\n\u001b[0m",
            "\u001b[0;31mTypeError\u001b[0m: 'tuple' object does not support item assignment"
          ]
        }
      ]
    },
    {
      "cell_type": "markdown",
      "metadata": {
        "id": "Ib7pQNeqWWu8",
        "colab_type": "text"
      },
      "source": [
        "튜플 사용방법"
      ]
    },
    {
      "cell_type": "code",
      "metadata": {
        "id": "oP4wnrLUWU5v",
        "colab_type": "code",
        "outputId": "db810f17-1a29-4a10-a620-09766adcfceb",
        "colab": {
          "base_uri": "https://localhost:8080/",
          "height": 35
        }
      },
      "source": [
        "#인덱싱하기\n",
        "t1 = (1, 2, \"a\", \"b\")\n",
        "t1[0],t1[3]"
      ],
      "execution_count": 0,
      "outputs": [
        {
          "output_type": "execute_result",
          "data": {
            "text/plain": [
              "(1, 'b')"
            ]
          },
          "metadata": {
            "tags": []
          },
          "execution_count": 16
        }
      ]
    },
    {
      "cell_type": "code",
      "metadata": {
        "id": "Fg6okDQmWeR0",
        "colab_type": "code",
        "outputId": "17cf1073-d650-44fc-9cf5-c3c0110d950a",
        "colab": {
          "base_uri": "https://localhost:8080/",
          "height": 35
        }
      },
      "source": [
        "t1[-1][-1]\n",
        "# 다중인덱싱"
      ],
      "execution_count": 0,
      "outputs": [
        {
          "output_type": "execute_result",
          "data": {
            "text/plain": [
              "'b'"
            ]
          },
          "metadata": {
            "tags": []
          },
          "execution_count": 17
        }
      ]
    },
    {
      "cell_type": "code",
      "metadata": {
        "id": "SV1_IiF3Wohu",
        "colab_type": "code",
        "outputId": "f1e2db8c-202d-4221-8648-7dbb98a425ca",
        "colab": {
          "base_uri": "https://localhost:8080/",
          "height": 35
        }
      },
      "source": [
        "#슬라이싱 하기\n",
        "t1 = (1, 2, \"a\", \"b\")\n",
        "t1[1:]\n"
      ],
      "execution_count": 0,
      "outputs": [
        {
          "output_type": "execute_result",
          "data": {
            "text/plain": [
              "(2, 'a', 'b')"
            ]
          },
          "metadata": {
            "tags": []
          },
          "execution_count": 18
        }
      ]
    },
    {
      "cell_type": "code",
      "metadata": {
        "id": "nOsmNlArWxFv",
        "colab_type": "code",
        "outputId": "8a30e515-4304-4bf1-8260-96901aeda483",
        "colab": {
          "base_uri": "https://localhost:8080/",
          "height": 35
        }
      },
      "source": [
        "t1[2:-1]  "
      ],
      "execution_count": 0,
      "outputs": [
        {
          "output_type": "execute_result",
          "data": {
            "text/plain": [
              "('a',)"
            ]
          },
          "metadata": {
            "tags": []
          },
          "execution_count": 19
        }
      ]
    },
    {
      "cell_type": "code",
      "metadata": {
        "id": "xfhKKJR2W4aL",
        "colab_type": "code",
        "outputId": "a592e5a0-4c55-412f-85fc-18100bd49233",
        "colab": {
          "base_uri": "https://localhost:8080/",
          "height": 35
        }
      },
      "source": [
        "t1[2:]"
      ],
      "execution_count": 0,
      "outputs": [
        {
          "output_type": "execute_result",
          "data": {
            "text/plain": [
              "('a', 'b')"
            ]
          },
          "metadata": {
            "tags": []
          },
          "execution_count": 20
        }
      ]
    },
    {
      "cell_type": "markdown",
      "metadata": {
        "id": "a2HJuPgPW980",
        "colab_type": "text"
      },
      "source": [
        "튜플 더하기"
      ]
    },
    {
      "cell_type": "code",
      "metadata": {
        "id": "zosZ_RR9W7MS",
        "colab_type": "code",
        "outputId": "fa2c8e53-ad40-4fe4-9f89-67bdcce23b0f",
        "colab": {
          "base_uri": "https://localhost:8080/",
          "height": 35
        }
      },
      "source": [
        "t1 = (1, 2, \"a\", \"b\")\n",
        "t2 = (3, 4)\n",
        "t1 + t2"
      ],
      "execution_count": 0,
      "outputs": [
        {
          "output_type": "execute_result",
          "data": {
            "text/plain": [
              "(1, 2, 'a', 'b', 3, 4)"
            ]
          },
          "metadata": {
            "tags": []
          },
          "execution_count": 21
        }
      ]
    },
    {
      "cell_type": "markdown",
      "metadata": {
        "id": "lzTlkXOaXD5a",
        "colab_type": "text"
      },
      "source": [
        "튜플 곱하기"
      ]
    },
    {
      "cell_type": "code",
      "metadata": {
        "id": "BPKvj76TXBP9",
        "colab_type": "code",
        "outputId": "c4a199a5-092f-42be-cdc0-a033d6acd26f",
        "colab": {
          "base_uri": "https://localhost:8080/",
          "height": 35
        }
      },
      "source": [
        "t2 = (3, 4)\n",
        "id(t2)"
      ],
      "execution_count": 0,
      "outputs": [
        {
          "output_type": "execute_result",
          "data": {
            "text/plain": [
              "140530683727496"
            ]
          },
          "metadata": {
            "tags": []
          },
          "execution_count": 22
        }
      ]
    },
    {
      "cell_type": "code",
      "metadata": {
        "id": "UGbKa60ZXJbv",
        "colab_type": "code",
        "outputId": "f42083be-3020-4831-fddf-35f7e2009f3c",
        "colab": {
          "base_uri": "https://localhost:8080/",
          "height": 35
        }
      },
      "source": [
        "t2*3\n"
      ],
      "execution_count": 0,
      "outputs": [
        {
          "output_type": "execute_result",
          "data": {
            "text/plain": [
              "(3, 4, 3, 4, 3, 4)"
            ]
          },
          "metadata": {
            "tags": []
          },
          "execution_count": 23
        }
      ]
    },
    {
      "cell_type": "code",
      "metadata": {
        "id": "ORsfPst3XMN4",
        "colab_type": "code",
        "outputId": "b0c11d8b-e5cb-496b-f3db-9f42a20de3a0",
        "colab": {
          "base_uri": "https://localhost:8080/",
          "height": 35
        }
      },
      "source": [
        "id(t2)"
      ],
      "execution_count": 0,
      "outputs": [
        {
          "output_type": "execute_result",
          "data": {
            "text/plain": [
              "140530683727496"
            ]
          },
          "metadata": {
            "tags": []
          },
          "execution_count": 24
        }
      ]
    },
    {
      "cell_type": "code",
      "metadata": {
        "id": "i_lO-rN5XVUS",
        "colab_type": "code",
        "outputId": "37e23b53-b725-46dd-9dbf-d077fb7b40bd",
        "colab": {
          "base_uri": "https://localhost:8080/",
          "height": 35
        }
      },
      "source": [
        "t2=t2*3\n",
        "t2"
      ],
      "execution_count": 0,
      "outputs": [
        {
          "output_type": "execute_result",
          "data": {
            "text/plain": [
              "(3, 4, 3, 4, 3, 4, 3, 4, 3, 4, 3, 4, 3, 4, 3, 4, 3, 4)"
            ]
          },
          "metadata": {
            "tags": []
          },
          "execution_count": 26
        }
      ]
    },
    {
      "cell_type": "code",
      "metadata": {
        "id": "Xa-ycghQXaNS",
        "colab_type": "code",
        "outputId": "302da613-129f-463a-cede-af3e4941fe8a",
        "colab": {
          "base_uri": "https://localhost:8080/",
          "height": 35
        }
      },
      "source": [
        "id(t2)"
      ],
      "execution_count": 0,
      "outputs": [
        {
          "output_type": "execute_result",
          "data": {
            "text/plain": [
              "140530690773832"
            ]
          },
          "metadata": {
            "tags": []
          },
          "execution_count": 27
        }
      ]
    },
    {
      "cell_type": "markdown",
      "metadata": {
        "id": "bJn7NClBXhqi",
        "colab_type": "text"
      },
      "source": [
        "튜플 길이구하기"
      ]
    },
    {
      "cell_type": "code",
      "metadata": {
        "id": "N82h-bu-Xhbp",
        "colab_type": "code",
        "outputId": "9eb72e25-09b7-4ca6-df9e-2ead47bb4e8e",
        "colab": {
          "base_uri": "https://localhost:8080/",
          "height": 35
        }
      },
      "source": [
        "t1 = (1, 2, \"a\", \"b\")\n",
        "len(t1)"
      ],
      "execution_count": 0,
      "outputs": [
        {
          "output_type": "execute_result",
          "data": {
            "text/plain": [
              "4"
            ]
          },
          "metadata": {
            "tags": []
          },
          "execution_count": 28
        }
      ]
    }
  ]
}